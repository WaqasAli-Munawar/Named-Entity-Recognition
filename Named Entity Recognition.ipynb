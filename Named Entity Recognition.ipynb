{
 "cells": [
  {
   "cell_type": "markdown",
   "metadata": {
    "id": "6rZL-x5JwPmk"
   },
   "source": [
    "In machine learning, the recognition of named entities is an essential subtask of **Natural Language Processing**. It tries to recognize and classify multi-word phrases with special meaning, e.g. `people`, `organizations`, `places`, `dates`, etc.\n",
    "\n",
    "Named entity recognition comes from **Information Retrieval (IE)**. IE’s job is to transform unstructured data into structured information. In Named Entity Recognition, unstructured data is the text written in natural language and we want to extract important information in a well-defined format eg. `relational database`."
   ]
  },
  {
   "cell_type": "markdown",
   "metadata": {
    "id": "OMoYCZjiwPnD"
   },
   "source": [
    "For example, we want to monitor the news for mentions of Covid-19 patients and for each patient we need the name of the responsible `medical` **organization**, **location** and **date**.\n",
    "\n",
    "The Named Entity Recognition task attempts to correctly detect and classify text expressions into a set of predefined classes. Classes can vary, but very often classes like `people (PER)`, `organizations (ORG)` or `places (LOC)` are used."
   ]
  },
  {
   "cell_type": "markdown",
   "metadata": {
    "id": "UGIFtrEDwPnE"
   },
   "source": [
    "There is an increase in the use of **named entity recognition** in **information retrieval**. Modern systems like **Apache Lucene** allow us to extend the query with custom properties. Since named entities are very important in many systems, it is essential to allow the user to use them.\n",
    "\n",
    "This also applies to search engines like **Google** or **Yahoo**, which try to handle the query containing or asking for named entities differently, for example, they show a box with basic information about the named entities with a link to a database of knowledge. Also, the results of named entities are classified differently."
   ]
  },
  {
   "cell_type": "code",
   "execution_count": 28,
   "metadata": {
    "id": "bFEPo05-wT-C"
   },
   "outputs": [],
   "source": [
    "# for working at google colab, following code will be used\n",
    "\n",
    "# from pydrive.auth import GoogleAuth\n",
    "# from pydrive.drive import GoogleDrive\n",
    "# from google.colab import auth\n",
    "# from oauth2client.client import GoogleCredentials\n",
    "# auth.authenticate_user()\n",
    "# gauth = GoogleAuth()\n",
    "# gauth.credentials = GoogleCredentials.get_application_default()\n",
    "# drive = GoogleDrive(gauth)\n",
    "# downloaded = drive.CreateFile({'id':'1hgrp5MtBgTbVTERp6dM-DoZAdKpv_Aq7'}) # replace the id with id of file we want to access\n",
    "# downloaded.GetContentFile('ner_dataset.csv') \n"
   ]
  },
  {
   "cell_type": "code",
   "execution_count": 29,
   "metadata": {
    "colab": {
     "base_uri": "https://localhost:8080/",
     "height": 204
    },
    "id": "DFFi3wMEwPnH",
    "outputId": "8e38b36d-3407-45aa-8f16-1f4d7f510acc"
   },
   "outputs": [
    {
     "data": {
      "text/html": [
       "<div>\n",
       "<style scoped>\n",
       "    .dataframe tbody tr th:only-of-type {\n",
       "        vertical-align: middle;\n",
       "    }\n",
       "\n",
       "    .dataframe tbody tr th {\n",
       "        vertical-align: top;\n",
       "    }\n",
       "\n",
       "    .dataframe thead th {\n",
       "        text-align: right;\n",
       "    }\n",
       "</style>\n",
       "<table border=\"1\" class=\"dataframe\">\n",
       "  <thead>\n",
       "    <tr style=\"text-align: right;\">\n",
       "      <th></th>\n",
       "      <th>Sentence #</th>\n",
       "      <th>Word</th>\n",
       "      <th>POS</th>\n",
       "      <th>Tag</th>\n",
       "    </tr>\n",
       "  </thead>\n",
       "  <tbody>\n",
       "    <tr>\n",
       "      <th>0</th>\n",
       "      <td>Sentence: 1</td>\n",
       "      <td>Thousands</td>\n",
       "      <td>NNS</td>\n",
       "      <td>O</td>\n",
       "    </tr>\n",
       "    <tr>\n",
       "      <th>1</th>\n",
       "      <td>NaN</td>\n",
       "      <td>of</td>\n",
       "      <td>IN</td>\n",
       "      <td>O</td>\n",
       "    </tr>\n",
       "    <tr>\n",
       "      <th>2</th>\n",
       "      <td>NaN</td>\n",
       "      <td>demonstrators</td>\n",
       "      <td>NNS</td>\n",
       "      <td>O</td>\n",
       "    </tr>\n",
       "    <tr>\n",
       "      <th>3</th>\n",
       "      <td>NaN</td>\n",
       "      <td>have</td>\n",
       "      <td>VBP</td>\n",
       "      <td>O</td>\n",
       "    </tr>\n",
       "    <tr>\n",
       "      <th>4</th>\n",
       "      <td>NaN</td>\n",
       "      <td>marched</td>\n",
       "      <td>VBN</td>\n",
       "      <td>O</td>\n",
       "    </tr>\n",
       "  </tbody>\n",
       "</table>\n",
       "</div>"
      ],
      "text/plain": [
       "    Sentence #           Word  POS Tag\n",
       "0  Sentence: 1      Thousands  NNS   O\n",
       "1          NaN             of   IN   O\n",
       "2          NaN  demonstrators  NNS   O\n",
       "3          NaN           have  VBP   O\n",
       "4          NaN        marched  VBN   O"
      ]
     },
     "execution_count": 29,
     "metadata": {},
     "output_type": "execute_result"
    }
   ],
   "source": [
    "import pandas as pd\n",
    "data = pd.read_csv('ner_dataset.csv', encoding= 'unicode_escape')\n",
    "data.head()"
   ]
  },
  {
   "cell_type": "code",
   "execution_count": 30,
   "metadata": {
    "colab": {
     "base_uri": "https://localhost:8080/"
    },
    "id": "fI0P2U8JwPnK",
    "outputId": "8940d81c-a945-48b6-cd9e-afbbb8847139"
   },
   "outputs": [
    {
     "data": {
      "text/plain": [
       "(1048575, 4)"
      ]
     },
     "execution_count": 30,
     "metadata": {},
     "output_type": "execute_result"
    }
   ],
   "source": [
    "data.shape"
   ]
  },
  {
   "cell_type": "markdown",
   "metadata": {
    "id": "dvT5vvEewPnL"
   },
   "source": [
    "We will need to train a neural network for the **Named Entity Recognition (NER**) task that requires some modifications to the data so that it can easily fit into a neutral network. \n",
    "\n",
    "We’ll start this step by extracting the **mappings** needed to train the neural network:"
   ]
  },
  {
   "cell_type": "code",
   "execution_count": 31,
   "metadata": {
    "id": "o5_lLhykwPnM"
   },
   "outputs": [],
   "source": [
    "def get_dict_map(data, token_or_tag):\n",
    "    tok2idx = {}\n",
    "    \n",
    "    if token_or_tag == 'token':\n",
    "        vocab = list(set(data['Word'].to_list()))\n",
    "    else:\n",
    "        vocab = list(set(data['Tag'].to_list()))\n",
    "    \n",
    "    tok2idx = {tok:idx for  idx, tok in enumerate(vocab)}\n",
    "    return tok2idx"
   ]
  },
  {
   "cell_type": "code",
   "execution_count": 32,
   "metadata": {
    "id": "-vlqN4hcwPnN"
   },
   "outputs": [],
   "source": [
    "token2idx= get_dict_map(data, 'token')\n",
    "tag2idx= get_dict_map(data, 'tag')"
   ]
  },
  {
   "cell_type": "code",
   "execution_count": 33,
   "metadata": {
    "id": "70OvIs9HwPnO"
   },
   "outputs": [],
   "source": [
    "data['Word_idx'] = data['Word'].map(token2idx)\n",
    "data['Tag_idx'] = data['Tag'].map(tag2idx)"
   ]
  },
  {
   "cell_type": "markdown",
   "metadata": {
    "id": "y1J8TK5MwPnP"
   },
   "source": [
    "Now, we’re going to transform the columns in the data to extract the sequential data for our neural network:"
   ]
  },
  {
   "cell_type": "code",
   "execution_count": 34,
   "metadata": {
    "colab": {
     "base_uri": "https://localhost:8080/"
    },
    "id": "63AAVREKwPnP",
    "outputId": "e531ea87-ff0d-4f41-8844-83ae568547d5"
   },
   "outputs": [
    {
     "data": {
      "text/plain": [
       "Sentence #    1000616\n",
       "Word                0\n",
       "POS                 0\n",
       "Tag                 0\n",
       "Word_idx            0\n",
       "Tag_idx             0\n",
       "dtype: int64"
      ]
     },
     "execution_count": 34,
     "metadata": {},
     "output_type": "execute_result"
    }
   ],
   "source": [
    "data.isnull().sum()"
   ]
  },
  {
   "cell_type": "code",
   "execution_count": 35,
   "metadata": {
    "colab": {
     "base_uri": "https://localhost:8080/"
    },
    "id": "8RqFkGvMwPnQ",
    "outputId": "f438a03f-3f18-4c19-a40b-0669e2a1f8e1"
   },
   "outputs": [
    {
     "data": {
      "text/plain": [
       "Sentence: 1        1\n",
       "Sentence: 10       1\n",
       "Sentence: 100      1\n",
       "Sentence: 1000     1\n",
       "Sentence: 10000    1\n",
       "Name: Sentence #, dtype: int64"
      ]
     },
     "execution_count": 35,
     "metadata": {},
     "output_type": "execute_result"
    }
   ],
   "source": [
    "data[\"Sentence #\"].value_counts().sort_index().head()"
   ]
  },
  {
   "cell_type": "code",
   "execution_count": 36,
   "metadata": {
    "id": "VylpIgALwPnR"
   },
   "outputs": [],
   "source": [
    "data_fillna = data.fillna(method='ffill', axis=0)"
   ]
  },
  {
   "cell_type": "code",
   "execution_count": 37,
   "metadata": {
    "colab": {
     "base_uri": "https://localhost:8080/"
    },
    "id": "ffE1JFrGwPnS",
    "outputId": "5b00f15b-d532-438f-8678-69d3acb51c1f"
   },
   "outputs": [
    {
     "data": {
      "text/plain": [
       "Sentence #    0\n",
       "Word          0\n",
       "POS           0\n",
       "Tag           0\n",
       "Word_idx      0\n",
       "Tag_idx       0\n",
       "dtype: int64"
      ]
     },
     "execution_count": 37,
     "metadata": {},
     "output_type": "execute_result"
    }
   ],
   "source": [
    "data_fillna.isnull().sum()"
   ]
  },
  {
   "cell_type": "code",
   "execution_count": 38,
   "metadata": {
    "colab": {
     "base_uri": "https://localhost:8080/"
    },
    "id": "16OZBt9ewPnT",
    "outputId": "4b4b3090-f699-451a-cc7e-0dec6149bbfd"
   },
   "outputs": [
    {
     "name": "stderr",
     "output_type": "stream",
     "text": [
      "C:\\ProgramData\\Anaconda3\\lib\\site-packages\\ipykernel_launcher.py:2: FutureWarning: Indexing with multiple keys (implicitly converted to a tuple of keys) will be deprecated, use a list instead.\n",
      "  \n"
     ]
    }
   ],
   "source": [
    "data_group = data_fillna.groupby(['Sentence #'],as_index=False)\\\n",
    "['Word','POS', 'Tag', 'Word_idx', 'Tag_idx'].agg(lambda x: list(x))"
   ]
  },
  {
   "cell_type": "code",
   "execution_count": 39,
   "metadata": {
    "colab": {
     "base_uri": "https://localhost:8080/",
     "height": 306
    },
    "id": "nzHw05sxwPnV",
    "outputId": "01a458a5-2b61-494f-8de1-4ac719123614"
   },
   "outputs": [
    {
     "data": {
      "text/html": [
       "<div>\n",
       "<style scoped>\n",
       "    .dataframe tbody tr th:only-of-type {\n",
       "        vertical-align: middle;\n",
       "    }\n",
       "\n",
       "    .dataframe tbody tr th {\n",
       "        vertical-align: top;\n",
       "    }\n",
       "\n",
       "    .dataframe thead th {\n",
       "        text-align: right;\n",
       "    }\n",
       "</style>\n",
       "<table border=\"1\" class=\"dataframe\">\n",
       "  <thead>\n",
       "    <tr style=\"text-align: right;\">\n",
       "      <th></th>\n",
       "      <th>Sentence #</th>\n",
       "      <th>Word</th>\n",
       "      <th>POS</th>\n",
       "      <th>Tag</th>\n",
       "      <th>Word_idx</th>\n",
       "      <th>Tag_idx</th>\n",
       "    </tr>\n",
       "  </thead>\n",
       "  <tbody>\n",
       "    <tr>\n",
       "      <th>0</th>\n",
       "      <td>Sentence: 1</td>\n",
       "      <td>[Thousands, of, demonstrators, have, marched, ...</td>\n",
       "      <td>[NNS, IN, NNS, VBP, VBN, IN, NNP, TO, VB, DT, ...</td>\n",
       "      <td>[O, O, O, O, O, O, B-geo, O, O, O, O, O, B-geo...</td>\n",
       "      <td>[23271, 28584, 21732, 29456, 26497, 3803, 1785...</td>\n",
       "      <td>[5, 5, 5, 5, 5, 5, 3, 5, 5, 5, 5, 5, 3, 5, 5, ...</td>\n",
       "    </tr>\n",
       "    <tr>\n",
       "      <th>1</th>\n",
       "      <td>Sentence: 10</td>\n",
       "      <td>[Iranian, officials, say, they, expect, to, ge...</td>\n",
       "      <td>[JJ, NNS, VBP, PRP, VBP, TO, VB, NN, TO, JJ, J...</td>\n",
       "      <td>[B-gpe, O, O, O, O, O, O, O, O, O, O, O, O, O,...</td>\n",
       "      <td>[32991, 20339, 32744, 27303, 22870, 1779, 2075...</td>\n",
       "      <td>[12, 5, 5, 5, 5, 5, 5, 5, 5, 5, 5, 5, 5, 5, 5,...</td>\n",
       "    </tr>\n",
       "  </tbody>\n",
       "</table>\n",
       "</div>"
      ],
      "text/plain": [
       "     Sentence #                                               Word  \\\n",
       "0   Sentence: 1  [Thousands, of, demonstrators, have, marched, ...   \n",
       "1  Sentence: 10  [Iranian, officials, say, they, expect, to, ge...   \n",
       "\n",
       "                                                 POS  \\\n",
       "0  [NNS, IN, NNS, VBP, VBN, IN, NNP, TO, VB, DT, ...   \n",
       "1  [JJ, NNS, VBP, PRP, VBP, TO, VB, NN, TO, JJ, J...   \n",
       "\n",
       "                                                 Tag  \\\n",
       "0  [O, O, O, O, O, O, B-geo, O, O, O, O, O, B-geo...   \n",
       "1  [B-gpe, O, O, O, O, O, O, O, O, O, O, O, O, O,...   \n",
       "\n",
       "                                            Word_idx  \\\n",
       "0  [23271, 28584, 21732, 29456, 26497, 3803, 1785...   \n",
       "1  [32991, 20339, 32744, 27303, 22870, 1779, 2075...   \n",
       "\n",
       "                                             Tag_idx  \n",
       "0  [5, 5, 5, 5, 5, 5, 3, 5, 5, 5, 5, 5, 3, 5, 5, ...  \n",
       "1  [12, 5, 5, 5, 5, 5, 5, 5, 5, 5, 5, 5, 5, 5, 5,...  "
      ]
     },
     "execution_count": 39,
     "metadata": {},
     "output_type": "execute_result"
    }
   ],
   "source": [
    "data_group.head(2)"
   ]
  },
  {
   "cell_type": "markdown",
   "metadata": {
    "id": "C9IjajeWwPnY"
   },
   "source": [
    "We will now divide the data into training and test sets. We are going to create a function to split the data as **LSTM (Long Short-Term Memory) layers** only accept sequences of the same length. Thus, each sentence that appears as an integer in the data must be completed with the same length:"
   ]
  },
  {
   "cell_type": "code",
   "execution_count": 40,
   "metadata": {
    "id": "ZLM1GiW2wPnZ"
   },
   "outputs": [],
   "source": [
    "from sklearn.model_selection import train_test_split\n",
    "from tensorflow.keras.preprocessing.sequence import pad_sequences\n",
    "from tensorflow.keras.utils import to_categorical"
   ]
  },
  {
   "cell_type": "code",
   "execution_count": 24,
   "metadata": {
    "id": "1mROd6O6wPne"
   },
   "outputs": [],
   "source": [
    "def get_pad_train_test_val(data_group, data):\n",
    "\n",
    "    #get max token and tag length\n",
    "    n_token = len(list(set(data['Word'].to_list())))\n",
    "    n_tag = len(list(set(data['Tag'].to_list())))\n",
    "\n",
    "    #Pad tokens (X var)    \n",
    "    tokens = data_group['Word_idx'].tolist()\n",
    "    maxlen = max([len(s) for s in tokens])\n",
    "    pad_tokens = pad_sequences(tokens, maxlen=maxlen, dtype='int32',\n",
    "                               padding='post', value= n_token - 1)\n",
    "\n",
    "    #Pad Tags (y var) and convert it into one hot encoding\n",
    "    tags = data_group['Tag_idx'].tolist()\n",
    "    pad_tags = pad_sequences(tags, maxlen=maxlen, dtype='int32', \n",
    "                             padding='post', value= tag2idx[\"O\"])\n",
    "    n_tags = len(tag2idx)\n",
    "    pad_tags = [to_categorical(i, num_classes=n_tags) for i in pad_tags]\n",
    "    \n",
    "    #Split train, test and validation set\n",
    "    tokens_, test_tokens, tags_, test_tags =\\\n",
    "    train_test_split(pad_tokens, pad_tags, test_size=0.1, train_size=0.9,\n",
    "                     random_state=2020)\n",
    "    \n",
    "    train_tokens, val_tokens, train_tags, val_tags =\\\n",
    "    train_test_split(tokens_,tags_,test_size = 0.25,train_size =0.75,\n",
    "                     random_state=2020)\n",
    "\n",
    "    print(\n",
    "        'train_tokens length:', len(train_tokens),\n",
    "        '\\ntrain_tags length:', len(train_tags),\n",
    "        '\\ntest_tokens length:', len(test_tokens),\n",
    "        '\\ntest_tags:', len(test_tags),\n",
    "        '\\nval_tokens:', len(val_tokens),\n",
    "        '\\nval_tags:', len(val_tags),\n",
    "    )\n",
    "    \n",
    "    return train_tokens, val_tokens, test_tokens, train_tags, val_tags, test_tags"
   ]
  },
  {
   "cell_type": "code",
   "execution_count": 25,
   "metadata": {
    "colab": {
     "base_uri": "https://localhost:8080/"
    },
    "id": "XpbglXztwPnf",
    "outputId": "8d7c4cd2-09d7-4251-9485-bab0d1d291a0"
   },
   "outputs": [
    {
     "name": "stdout",
     "output_type": "stream",
     "text": [
      "train_tokens length: 32372 \n",
      "train_tags length: 32372 \n",
      "test_tokens length: 4796 \n",
      "test_tags: 4796 \n",
      "val_tokens: 10791 \n",
      "val_tags: 10791\n"
     ]
    }
   ],
   "source": [
    "train_tokens, val_tokens, test_tokens, train_tags, val_tags, test_tags = get_pad_train_test_val(data_group, data)"
   ]
  },
  {
   "attachments": {
    "image.png": {
     "image/png": "[encoded data removed]"
    }
   },
   "cell_type": "markdown",
   "metadata": {
    "id": "Pc61CjVGwPng"
   },
   "source": [
    "### Training a Neural Network for NER\n",
    "\n",
    "We will now proceed to train the neural network architecture for our model. Let’s start by importing all the packages we need to train our neural network. \n",
    "\n",
    "Next, we’ll create layers that will take the dimensions of the **LSTM layer** and give the maximum length and maximum tags as output:\n",
    "\n",
    "![image.png](attachment:image.png)"
   ]
  },
  {
   "cell_type": "code",
   "execution_count": 27,
   "metadata": {
    "id": "_tz5ykG5wPnh"
   },
   "outputs": [],
   "source": [
    "import numpy as np\n",
    "import tensorflow\n",
    "from tensorflow.keras import Sequential, Model, Input\n",
    "from tensorflow.keras.layers import LSTM, Embedding, Dense, TimeDistributed, Dropout, Bidirectional\n",
    "from tensorflow.keras.utils import plot_model"
   ]
  },
  {
   "cell_type": "code",
   "execution_count": 28,
   "metadata": {
    "id": "GSiY1RYzwPni"
   },
   "outputs": [],
   "source": [
    "from numpy.random import seed\n",
    "\n",
    "seed(1)\n",
    "tensorflow.random.set_seed(2)"
   ]
  },
  {
   "cell_type": "code",
   "execution_count": 29,
   "metadata": {
    "id": "bpbYn-XtwPni"
   },
   "outputs": [],
   "source": [
    "input_dim = len(list(set(data['Word'].to_list())))+1\n",
    "output_dim = 64\n",
    "input_length = max([len(s) for s in data_group['Word_idx'].tolist()])\n",
    "n_tags = len(tag2idx)"
   ]
  },
  {
   "cell_type": "markdown",
   "metadata": {
    "id": "yupXBEI_wPnj"
   },
   "source": [
    "Now we will create a helper function that will help us to give the summary of each layer of the neural network model."
   ]
  },
  {
   "cell_type": "code",
   "execution_count": 30,
   "metadata": {
    "id": "3sxuep1kwPnj"
   },
   "outputs": [],
   "source": [
    "def get_bilstm_lstm_model():\n",
    "    model = Sequential()\n",
    "\n",
    "    # Add Embedding layer\n",
    "    model.add(Embedding(input_dim=input_dim, output_dim=output_dim, \n",
    "                        input_length=input_length))\n",
    "\n",
    "    # Add bidirectional LSTM\n",
    "    model.add(Bidirectional(LSTM(units=output_dim, return_sequences=True,\n",
    "                                 dropout=0.2, recurrent_dropout=0.2),\n",
    "                            merge_mode = 'concat'))\n",
    "\n",
    "    # Add LSTM\n",
    "    model.add(LSTM(units=output_dim, return_sequences=True, \n",
    "                   dropout=0.5, recurrent_dropout=0.5))\n",
    "\n",
    "    # Add timeDistributed Layer\n",
    "    model.add(TimeDistributed(Dense(n_tags, activation=\"relu\")))\n",
    "\n",
    "    #Optimiser \n",
    "    # adam = k.optimizers.Adam(lr=0.0005, beta_1=0.9, beta_2=0.999)\n",
    "\n",
    "    # Compile model\n",
    "    model.compile(loss='categorical_crossentropy', optimizer='adam',\n",
    "                  metrics=['accuracy'])\n",
    "    model.summary()\n",
    "    \n",
    "    return model"
   ]
  },
  {
   "cell_type": "markdown",
   "metadata": {
    "id": "fmxughXTwPnk"
   },
   "source": [
    "Now we will create a function to train our model:"
   ]
  },
  {
   "cell_type": "code",
   "execution_count": 31,
   "metadata": {
    "colab": {
     "base_uri": "https://localhost:8080/",
     "height": 738
    },
    "id": "DsC-vRQowPnk",
    "outputId": "2d1e60ee-b301-4f6b-fcab-4c350a642b9f"
   },
   "outputs": [
    {
     "name": "stdout",
     "output_type": "stream",
     "text": [
      "Model: \"sequential\"\n",
      "_________________________________________________________________\n",
      "Layer (type)                 Output Shape              Param #   \n",
      "=================================================================\n",
      "embedding (Embedding)        (None, 104, 64)           2251456   \n",
      "_________________________________________________________________\n",
      "bidirectional (Bidirectional (None, 104, 128)          66048     \n",
      "_________________________________________________________________\n",
      "lstm_1 (LSTM)                (None, 104, 64)           49408     \n",
      "_________________________________________________________________\n",
      "time_distributed (TimeDistri (None, 104, 17)           1105      \n",
      "=================================================================\n",
      "Total params: 2,368,017\n",
      "Trainable params: 2,368,017\n",
      "Non-trainable params: 0\n",
      "_________________________________________________________________\n"
     ]
    },
    {
     "data": {
      "image/png": "[encoded data removed]",
      "text/plain": [
       "<IPython.core.display.Image object>"
      ]
     },
     "execution_count": 31,
     "metadata": {
      "tags": []
     },
     "output_type": "execute_result"
    }
   ],
   "source": [
    "def train_model(X, y, model):\n",
    "    loss = list()\n",
    "    for i in range(25):\n",
    "        # fit model for one epoch on this sequence\n",
    "        hist = model.fit(X, y, batch_size=1000, verbose=1, epochs=1, \n",
    "                         validation_split=0.2)\n",
    "        loss.append(hist.history['loss'][0])\n",
    "    return loss\n",
    "\n",
    "\n",
    "model_bilstm_lstm = get_bilstm_lstm_model()\n",
    "plot_model(model_bilstm_lstm)"
   ]
  },
  {
   "cell_type": "code",
   "execution_count": 32,
   "metadata": {
    "colab": {
     "base_uri": "https://localhost:8080/"
    },
    "id": "ZZWPWlgowPnl",
    "outputId": "80dd6092-c4b7-46dc-d172-4df82d887461"
   },
   "outputs": [
    {
     "name": "stdout",
     "output_type": "stream",
     "text": [
      "26/26 [==============================] - 149s 5s/step - loss: 1.2268 - accuracy: 0.8306 - val_loss: 0.3400 - val_accuracy: 0.9681\n",
      "26/26 [==============================] - 139s 5s/step - loss: 0.3335 - accuracy: 0.9677 - val_loss: 0.2980 - val_accuracy: 0.9681\n",
      "26/26 [==============================] - 139s 5s/step - loss: 0.2976 - accuracy: 0.9675 - val_loss: 0.2758 - val_accuracy: 0.9681\n",
      "26/26 [==============================] - 138s 5s/step - loss: 0.2871 - accuracy: 0.9677 - val_loss: 0.2726 - val_accuracy: 0.9681\n",
      "26/26 [==============================] - 141s 5s/step - loss: 0.2734 - accuracy: 0.9677 - val_loss: 0.2472 - val_accuracy: 0.9681\n",
      "26/26 [==============================] - 140s 5s/step - loss: 0.2349 - accuracy: 0.9677 - val_loss: 0.2208 - val_accuracy: 0.9681\n",
      "26/26 [==============================] - 139s 5s/step - loss: 0.2183 - accuracy: 0.9678 - val_loss: 0.2066 - val_accuracy: 0.9681\n",
      "26/26 [==============================] - 138s 5s/step - loss: 0.2022 - accuracy: 0.9678 - val_loss: 0.1909 - val_accuracy: 0.9682\n",
      "26/26 [==============================] - 138s 5s/step - loss: 0.1910 - accuracy: 0.9678 - val_loss: 0.1849 - val_accuracy: 0.9682\n",
      "26/26 [==============================] - 139s 5s/step - loss: 0.1819 - accuracy: 0.9679 - val_loss: 0.1823 - val_accuracy: 0.9682\n",
      "26/26 [==============================] - 137s 5s/step - loss: 0.1739 - accuracy: 0.9679 - val_loss: 0.1775 - val_accuracy: 0.9683\n",
      "26/26 [==============================] - 137s 5s/step - loss: 0.1682 - accuracy: 0.9681 - val_loss: 0.1780 - val_accuracy: 0.9684\n",
      "26/26 [==============================] - 137s 5s/step - loss: 0.1689 - accuracy: 0.9683 - val_loss: 0.1876 - val_accuracy: 0.9689\n",
      "26/26 [==============================] - 137s 5s/step - loss: 0.1453 - accuracy: 0.9685 - val_loss: 0.1228 - val_accuracy: 0.9689\n",
      "26/26 [==============================] - 137s 5s/step - loss: 0.1118 - accuracy: 0.9686 - val_loss: 0.1146 - val_accuracy: 0.9689\n",
      "26/26 [==============================] - 137s 5s/step - loss: 0.1017 - accuracy: 0.9690 - val_loss: 0.1121 - val_accuracy: 0.9694\n",
      "26/26 [==============================] - 136s 5s/step - loss: 0.0969 - accuracy: 0.9692 - val_loss: 0.1114 - val_accuracy: 0.9695\n",
      "26/26 [==============================] - 137s 5s/step - loss: 0.0909 - accuracy: 0.9697 - val_loss: 0.1030 - val_accuracy: 0.9704\n",
      "26/26 [==============================] - 137s 5s/step - loss: 0.0914 - accuracy: 0.9702 - val_loss: 0.1090 - val_accuracy: 0.9702\n",
      "26/26 [==============================] - 142s 5s/step - loss: 0.0854 - accuracy: 0.9705 - val_loss: 0.1054 - val_accuracy: 0.9709\n",
      "26/26 [==============================] - 143s 5s/step - loss: 0.0858 - accuracy: 0.9716 - val_loss: 0.1055 - val_accuracy: 0.9707\n",
      "26/26 [==============================] - 141s 5s/step - loss: 0.0808 - accuracy: 0.9713 - val_loss: 0.0995 - val_accuracy: 0.9720\n",
      "26/26 [==============================] - 142s 5s/step - loss: 0.0774 - accuracy: 0.9725 - val_loss: 0.0985 - val_accuracy: 0.9731\n",
      "26/26 [==============================] - 138s 5s/step - loss: 0.0754 - accuracy: 0.9735 - val_loss: 0.1001 - val_accuracy: 0.9737\n",
      "26/26 [==============================] - 147s 6s/step - loss: 0.0748 - accuracy: 0.9744 - val_loss: 0.0990 - val_accuracy: 0.9737\n"
     ]
    }
   ],
   "source": [
    "results = pd.DataFrame()\n",
    "results['with_add_lstm'] = train_model(train_tokens, np.array(train_tags), model_bilstm_lstm)"
   ]
  },
  {
   "cell_type": "markdown",
   "metadata": {
    "id": "SzFudJy0wPnm"
   },
   "source": [
    "# Testing the Model\n",
    "\n",
    "Now, we will use the **spacy** library to test our **NER model**. We will add input of some lines by ourself and let’s see what we will get after running the code:"
   ]
  },
  {
   "cell_type": "code",
   "execution_count": null,
   "metadata": {},
   "outputs": [],
   "source": [
    "# pip install -U pip setuptools wheel\n",
    "# pip install -U spacy\n",
    "# python -m spacy download en_core_web_sm"
   ]
  },
  {
   "cell_type": "code",
   "execution_count": 34,
   "metadata": {
    "colab": {
     "base_uri": "https://localhost:8080/",
     "height": 157
    },
    "id": "znw1yk_bwPnm",
    "outputId": "2af04b4e-1278-4cf0-8763-aeb8546b04f8"
   },
   "outputs": [
    {
     "data": {
      "text/html": [
       "<span class=\"tex2jax_ignore\"><div class=\"entities\" style=\"line-height: 2.5; direction: ltr\">Hi, My name is \n",
       "<mark class=\"entity\" style=\"background: #aa9cfc; padding: 0.45em 0.6em; margin: 0 0.25em; line-height: 1; border-radius: 0.35em;\">\n",
       "    Waqas Ali\n",
       "    <span style=\"font-size: 0.8em; font-weight: bold; line-height: 1; border-radius: 0.35em; text-transform: uppercase; vertical-align: middle; margin-left: 0.5rem\">PERSON</span>\n",
       "</mark>\n",
       " </br> I am from \n",
       "<mark class=\"entity\" style=\"background: #feca74; padding: 0.45em 0.6em; margin: 0 0.25em; line-height: 1; border-radius: 0.35em;\">\n",
       "    Pakistan\n",
       "    <span style=\"font-size: 0.8em; font-weight: bold; line-height: 1; border-radius: 0.35em; text-transform: uppercase; vertical-align: middle; margin-left: 0.5rem\">GPE</span>\n",
       "</mark>\n",
       " </br> I want to work with \n",
       "<mark class=\"entity\" style=\"background: #7aecec; padding: 0.45em 0.6em; margin: 0 0.25em; line-height: 1; border-radius: 0.35em;\">\n",
       "    Google\n",
       "    <span style=\"font-size: 0.8em; font-weight: bold; line-height: 1; border-radius: 0.35em; text-transform: uppercase; vertical-align: middle; margin-left: 0.5rem\">ORG</span>\n",
       "</mark>\n",
       " </br> \n",
       "<mark class=\"entity\" style=\"background: #aa9cfc; padding: 0.45em 0.6em; margin: 0 0.25em; line-height: 1; border-radius: 0.35em;\">\n",
       "    Muhammad\n",
       "    <span style=\"font-size: 0.8em; font-weight: bold; line-height: 1; border-radius: 0.35em; text-transform: uppercase; vertical-align: middle; margin-left: 0.5rem\">PERSON</span>\n",
       "</mark>\n",
       " (P.B.U.H) is My Inspiration</div></span>"
      ],
      "text/plain": [
       "<IPython.core.display.HTML object>"
      ]
     },
     "metadata": {
      "tags": []
     },
     "output_type": "display_data"
    }
   ],
   "source": [
    "import spacy\n",
    "from spacy import displacy\n",
    "nlp = spacy.load('en_core_web_sm')\n",
    "text = nlp('Hi, My name is Waqas Ali \\n I am from Pakistan \\n I want to work with Google \\n Muhammad (P.B.U.H) is My Inspiration')\n",
    "displacy.render(text, style = 'ent', jupyter=True)"
   ]
  },
  {
   "cell_type": "code",
   "execution_count": null,
   "metadata": {
    "id": "A35FfHPDJ-P4"
   },
   "outputs": [],
   "source": []
  }
 ],
 "metadata": {
  "colab": {
   "collapsed_sections": [],
   "name": "Named Entity Recognition.ipynb",
   "provenance": []
  },
  "kernelspec": {
   "display_name": "Python 3",
   "language": "python",
   "name": "python3"
  },
  "language_info": {
   "codemirror_mode": {
    "name": "ipython",
    "version": 3
   },
   "file_extension": ".py",
   "mimetype": "text/x-python",
   "name": "python",
   "nbconvert_exporter": "python",
   "pygments_lexer": "ipython3",
   "version": "3.7.6"
  }
 },
 "nbformat": 4,
 "nbformat_minor": 1
}
